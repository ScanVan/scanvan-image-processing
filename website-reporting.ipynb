{
 "cells": [
  {
   "cell_type": "code",
   "execution_count": 1,
   "metadata": {},
   "outputs": [],
   "source": [
    "import json\n",
    "import numpy as np\n",
    "import imageio\n",
    "import os\n",
    "import tqdm\n",
    "from glob import glob\n",
    "import shutil\n",
    "import matplotlib.pyplot as plt\n",
    "plt.rcParams['figure.figsize']=[12, 12]\n",
    "from matplotlib.patches import Polygon\n",
    "from PIL import Image, ImageDraw, ImageOps\n",
    "import cv2 as cv2\n",
    "import json\n",
    "import requests\n",
    "from datetime import datetime"
   ]
  },
  {
   "cell_type": "code",
   "execution_count": 2,
   "metadata": {},
   "outputs": [],
   "source": [
    "def find_poly_in_instance(img_filename, label_dict):\n",
    "    shape_attributes = label_dict.get(img_filename)\n",
    "    polygons = []\n",
    "    for sh_attr in shape_attributes:\n",
    "        xy = list(zip(sh_attr.get('shape_attributes')['all_points_x'], sh_attr.get('shape_attributes')['all_points_y']))\n",
    "        polygons.append(xy)\n",
    "\n",
    "    return polygons"
   ]
  },
  {
   "cell_type": "code",
   "execution_count": 3,
   "metadata": {},
   "outputs": [],
   "source": [
    "url = \" \"\n",
    "response = requests.get(url)\n",
    "data = response.json()"
   ]
  },
  {
   "cell_type": "code",
   "execution_count": 4,
   "metadata": {},
   "outputs": [
    {
     "data": {
      "text/plain": [
       "32"
      ]
     },
     "execution_count": 4,
     "metadata": {},
     "output_type": "execute_result"
    }
   ],
   "source": [
    "len(data)"
   ]
  },
  {
   "cell_type": "code",
   "execution_count": 5,
   "metadata": {},
   "outputs": [],
   "source": [
    "datetime.now()\n",
    "now = datetime.now()\n",
    "dt_string = now.strftime(\"%Y%m%d-%H%M%S\")\n",
    "\n",
    "folder_name = dt_string\n",
    "export_path = os.path.join('/media/scanvan/web/public/reporting', dt_string)\n",
    "os.makedirs(export_path, exist_ok=True)"
   ]
  },
  {
   "cell_type": "code",
   "execution_count": 6,
   "metadata": {},
   "outputs": [
    {
     "name": "stderr",
     "output_type": "stream",
     "text": [
      "<ipython-input-6-2e5cefc5926c>:4: TqdmDeprecationWarning: This function will be removed in tqdm==5.0.0\n",
      "Please use `tqdm.notebook.tqdm` instead of `tqdm.tqdm_notebook`\n",
      "  for i in tqdm.tqdm_notebook(range(len(data))):\n"
     ]
    },
    {
     "data": {
      "application/vnd.jupyter.widget-view+json": {
       "model_id": "348cd8f794894c1fa49cee276087c061",
       "version_major": 2,
       "version_minor": 0
      },
      "text/plain": [
       "HBox(children=(HTML(value=''), FloatProgress(value=0.0, max=32.0), HTML(value='')))"
      ]
     },
     "metadata": {},
     "output_type": "display_data"
    },
    {
     "name": "stdout",
     "output_type": "stream",
     "text": [
      "\n"
     ]
    }
   ],
   "source": [
    "root_path = '/media/scanvan/web/public/test/'\n",
    "SRCS = []\n",
    "MASKS = []\n",
    "for i in tqdm.tqdm_notebook(range(len(data))):\n",
    "    \n",
    "    im_path = root_path + data[i]['filepath']\n",
    "    SRCS.append(im_path)\n",
    "    im = Image.open(im_path)\n",
    "    width, height  = im.size\n",
    "    \n",
    "    poly = []\n",
    "    for order in data[i]['pitchYawOrders']:\n",
    "        y = height * order['pitch'] / np.pi\n",
    "        x = width * order['yaw'] / ( 2 * np.pi )\n",
    "        poly.append( ( x , y ) )\n",
    "        \n",
    "    mask = Image.new('L', (width, height), 0)\n",
    "    ImageDraw.Draw(mask).polygon(poly, outline=1, fill=1)\n",
    "    mask_inv = cv2.bitwise_not(np.array(mask) * 255)\n",
    "    \n",
    "    mask_path = os.path.join('/media/scanvan/web/public/reporting', dt_string, data[i]['viewpointId'] + \"-mask.jpg\")\n",
    "    MASKS.append(mask_path)\n",
    "    imageio.imwrite(mask_path, mask_inv)\n",
    "    \n",
    "    # images are re-written at the same path\n",
    "    !/home/descombe/Sources/image-suite/bin/image-missing-pixel -s $im_path -m $mask_path -e $im_path -k 16\n",
    "        "
   ]
  },
  {
   "cell_type": "code",
   "execution_count": 8,
   "metadata": {},
   "outputs": [],
   "source": [
    "# can be useful to check new annotations\n",
    "for mask in MASKS:\n",
    "    !cp $mask ."
   ]
  },
  {
   "cell_type": "code",
   "execution_count": null,
   "metadata": {},
   "outputs": [],
   "source": [
    "# useful to check annotations\n",
    "extent = 0, width, 0, height\n",
    "fig = plt.figure(frameon=False, figsize = (23,23))\n",
    "\n",
    "im1 = plt.imshow(im,\n",
    "                 extent=extent)\n",
    "\n",
    "im2 = plt.imshow(mask,\n",
    "                 extent=extent, alpha=0.5)\n",
    "\n",
    "plt.show()"
   ]
  },
  {
   "cell_type": "code",
   "execution_count": null,
   "metadata": {},
   "outputs": [],
   "source": []
  }
 ],
 "metadata": {
  "kernelspec": {
   "display_name": "Python 3",
   "language": "python",
   "name": "python3"
  },
  "language_info": {
   "codemirror_mode": {
    "name": "ipython",
    "version": 3
   },
   "file_extension": ".py",
   "mimetype": "text/x-python",
   "name": "python",
   "nbconvert_exporter": "python",
   "pygments_lexer": "ipython3",
   "version": "3.8.5"
  }
 },
 "nbformat": 4,
 "nbformat_minor": 4
}
